{
 "cells": [
  {
   "cell_type": "code",
   "execution_count": 3,
   "id": "f222504b",
   "metadata": {},
   "outputs": [
    {
     "name": "stdout",
     "output_type": "stream",
     "text": [
      "Collecting opencv-python\n",
      "  Downloading opencv_python-4.5.3.56-cp38-cp38-win_amd64.whl (34.9 MB)\n",
      "Requirement already satisfied: numpy>=1.17.3 in c:\\users\\ajay samuel victor\\new folder\\envs\\mlenv\\lib\\site-packages (from opencv-python) (1.20.3)\n",
      "Installing collected packages: opencv-python\n",
      "Successfully installed opencv-python-4.5.3.56\n",
      "Collecting pytesseract\n",
      "  Downloading pytesseract-0.3.8.tar.gz (14 kB)\n",
      "Requirement already satisfied: Pillow in c:\\users\\ajay samuel victor\\new folder\\envs\\mlenv\\lib\\site-packages (from pytesseract) (8.3.1)\n",
      "Building wheels for collected packages: pytesseract\n",
      "  Building wheel for pytesseract (setup.py): started\n",
      "  Building wheel for pytesseract (setup.py): finished with status 'done'\n",
      "  Created wheel for pytesseract: filename=pytesseract-0.3.8-py2.py3-none-any.whl size=14072 sha256=e2a9e53956eae116cd499066bb5a9daf34b07c668321710634ca72d266eb6f03\n",
      "  Stored in directory: c:\\users\\ajay samuel victor\\appdata\\local\\pip\\cache\\wheels\\ed\\8a\\c6\\40c7ec06c2dd3df636832537238128a1471bf9c1b6a3a9bf40\n",
      "Successfully built pytesseract\n",
      "Installing collected packages: pytesseract\n",
      "Successfully installed pytesseract-0.3.8\n"
     ]
    }
   ],
   "source": [
    "#installing some necessary packages\n",
    "!pip install opencv-python\n",
    "!pip install pytesseract"
   ]
  },
  {
   "cell_type": "code",
   "execution_count": 4,
   "id": "c4ea9019",
   "metadata": {},
   "outputs": [],
   "source": [
    "#importing necessary libraries\n",
    "import numpy as np\n",
    "import cv2\n",
    "from PIL import Image\n",
    "import pytesseract as tess"
   ]
  },
  {
   "cell_type": "code",
   "execution_count": 5,
   "id": "04c57ef9",
   "metadata": {},
   "outputs": [],
   "source": [
    "#function to check area range, width-height ratio\n",
    "def ratioCheck(area, width, height):\n",
    "    ratio = float(width) / float(height)\n",
    "    if ratio < 1:\n",
    "        ratio = 1 / ratio\n",
    "    if (area < 1063.62 or area > 73862.5) or (ratio < 3 or ratio > 6):\n",
    "        return False\n",
    "    return True"
   ]
  },
  {
   "cell_type": "code",
   "execution_count": 6,
   "id": "8fe2f0bd",
   "metadata": {},
   "outputs": [],
   "source": [
    "#function to check average of image matrix\n",
    "def isMaxWhite(plate):\n",
    "    avg = np.mean(plate)\n",
    "    if(avg>=115):\n",
    "        return True\n",
    "    else:\n",
    "         return False"
   ]
  },
  {
   "cell_type": "code",
   "execution_count": 7,
   "id": "f9e93a1c",
   "metadata": {},
   "outputs": [],
   "source": [
    "#function to check the rotation of contours\n",
    "def ratio_and_rotation(rect):\n",
    "    (x, y), (width, height), rect_angle = rect\n",
    "\n",
    "    if(width>height):\n",
    "        angle = -rect_angle\n",
    "    else:\n",
    "        angle = 90 + rect_angle\n",
    "\n",
    "    if angle>15:\n",
    "         return False\n",
    "\n",
    "    if height == 0 or width == 0:\n",
    "        return False\n",
    "\n",
    "    area = height*width\n",
    "    if not ratioCheck(area,width,height):\n",
    "        return False\n",
    "    else:\n",
    "        return True"
   ]
  },
  {
   "cell_type": "code",
   "execution_count": 8,
   "id": "2c2d5de7",
   "metadata": {},
   "outputs": [],
   "source": [
    "#function to clean the identified number plate for preprocessing\n",
    "def clean2_plate(plate):\n",
    "    gray_img = cv2.cvtColor(plate, cv2.COLOR_BGR2GRAY)\n",
    "\n",
    "    _, thresh = cv2.threshold(gray_img, 110, 255, cv2.THRESH_BINARY)\n",
    "    if cv2.waitKey(0) & 0xff == ord('q'):\n",
    "        pass\n",
    "    num_contours,hierarchy = cv2.findContours(thresh.copy(),cv2.RETR_EXTERNAL, cv2.CHAIN_APPROX_NONE)\n",
    "\n",
    "    if num_contours:\n",
    "        contour_area = [cv2.contourArea(c) for c in num_contours]\n",
    "        max_cntr_index = np.argmax(contour_area)\n",
    "\n",
    "        max_cnt = num_contours[max_cntr_index]\n",
    "        max_cntArea = contour_area[max_cntr_index]\n",
    "        x,y,w,h = cv2.boundingRect(max_cnt)\n",
    "\n",
    "        if not ratioCheck(max_cntArea,w,h):\n",
    "            return plate,None\n",
    "\n",
    "        final_img = thresh[y:y+h, x:x+w]\n",
    "        return final_img,[x,y,w,h]\n",
    "\n",
    "    else:\n",
    "        return plate, None"
   ]
  },
  {
   "cell_type": "code",
   "execution_count": 11,
   "id": "eafc81c6",
   "metadata": {},
   "outputs": [
    {
     "name": "stdout",
     "output_type": "stream",
     "text": [
      "Number  input image...\n"
     ]
    }
   ],
   "source": [
    "#we will take an image input, perform Gaussian Blur, Sobel and morphological operations, we find contours in the image and loop through each contour to identify the number plate\n",
    "# the we feed it to pytesseract to recognize the number and characters\n",
    "img = cv2.imread(\"images/swift.jpg\")\n",
    "print(\"Number  input image...\",)\n",
    "cv2.imshow(\"input\",img)\n",
    "\n",
    "if cv2.waitKey(0) & 0xff == ord('q'):\n",
    "    pass\n",
    "img2 = cv2.GaussianBlur(img, (3,3), 0)\n",
    "img2 = cv2.cvtColor(img2, cv2.COLOR_BGR2GRAY)\n",
    "\n",
    "img2 = cv2.Sobel(img2,cv2.CV_8U,1,0,ksize=3)    \n",
    "_,img2 = cv2.threshold(img2,0,255,cv2.THRESH_BINARY+cv2.THRESH_OTSU)\n",
    "\n",
    "element = cv2.getStructuringElement(shape=cv2.MORPH_RECT, ksize=(17, 3))\n",
    "morph_img_threshold = img2.copy()\n",
    "cv2.morphologyEx(src=img2, op=cv2.MORPH_CLOSE, kernel=element, dst=morph_img_threshold)\n",
    "num_contours, hierarchy= cv2.findContours(morph_img_threshold,mode=cv2.RETR_EXTERNAL,method=cv2.CHAIN_APPROX_NONE)\n",
    "cv2.drawContours(img2, num_contours, -1, (0,255,0), 1)\n",
    "\n",
    "\n",
    "for i,cnt in enumerate(num_contours):\n",
    "\n",
    "    min_rect = cv2.minAreaRect(cnt)\n",
    "\n",
    "    if ratio_and_rotation(min_rect):\n",
    "\n",
    "        x,y,w,h = cv2.boundingRect(cnt)\n",
    "        plate_img = img[y:y+h,x:x+w]\n",
    "        print(\"Number  identified number plate...\")\n",
    "        cv2.imshow(\"num plate image\",plate_img)\n",
    "        if cv2.waitKey(0) & 0xff == ord('q'):\n",
    "            pass\n",
    "\n",
    "        if(isMaxWhite(plate_img)):\n",
    "            clean_plate, rect = clean2_plate(plate_img)\n",
    "            if rect:\n",
    "                fg=0\n",
    "                x1,y1,w1,h1 = rect\n",
    "                x,y,w,h = x+x1,y+y1,w1,h1\n",
    "                # cv2.imwrite(\"clena.png\",clean_plate)\n",
    "                plate_im = Image.fromarray(clean_plate)\n",
    "                text = tess.image_to_string(plate_im, lang='eng')\n",
    "                print(\"Number  Detected Plate Text : \",text)"
   ]
  },
  {
   "cell_type": "code",
   "execution_count": null,
   "id": "0d75774c",
   "metadata": {},
   "outputs": [],
   "source": []
  }
 ],
 "metadata": {
  "kernelspec": {
   "display_name": "Python 3 (ipykernel)",
   "language": "python",
   "name": "python3"
  },
  "language_info": {
   "codemirror_mode": {
    "name": "ipython",
    "version": 3
   },
   "file_extension": ".py",
   "mimetype": "text/x-python",
   "name": "python",
   "nbconvert_exporter": "python",
   "pygments_lexer": "ipython3",
   "version": "3.8.11"
  }
 },
 "nbformat": 4,
 "nbformat_minor": 5
}
